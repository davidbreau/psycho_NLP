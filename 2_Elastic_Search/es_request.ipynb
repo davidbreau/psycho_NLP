{
 "cells": [
  {
   "cell_type": "code",
   "execution_count": 1,
   "metadata": {},
   "outputs": [],
   "source": [
    "from elasticsearch import Elasticsearch\n",
    "import pandas as pd\n",
    "\n",
    "es = Elasticsearch([{'host': 'localhost', 'port': 9200,'scheme': 'http'}])      # Connexion à Elasticsearch"
   ]
  },
  {
   "cell_type": "markdown",
   "metadata": {},
   "source": [
    "Requêtes"
   ]
  },
  {
   "cell_type": "code",
   "execution_count": 15,
   "metadata": {},
   "outputs": [
    {
     "name": "stdout",
     "output_type": "stream",
     "text": [
      "Patient Last Name: Willis\n",
      "Patient First Name: Denise\n",
      "Text: i get really sweaty during these episodes and my stomach will feel really funny like i m free falling\n",
      "Date: 2023-03-24\n",
      "Patient Left: False\n",
      "Emotion: surprise\n",
      "Confidence: 0.6421239719366443\n",
      "-------------------------\n",
      "Patient Last Name: Bentley\n",
      "Patient First Name: Shane\n",
      "Text: i have been feeling so overwhelmed lately\n",
      "Date: 2023-06-05\n",
      "Patient Left: False\n",
      "Emotion: fear\n",
      "Confidence: 0.5882103402242721\n",
      "-------------------------\n"
     ]
    },
    {
     "name": "stderr",
     "output_type": "stream",
     "text": [
      "/tmp/ipykernel_419760/272352446.py:1: ElasticsearchWarning: Elasticsearch built-in security features are not enabled. Without authentication, your cluster could be accessible to anyone. See https://www.elastic.co/guide/en/elasticsearch/reference/7.17/security-minimal-setup.html to enable security.\n",
      "  result = es.search(index=\"notes\", size=2)   #  Recupère les 2 premiers documents\n"
     ]
    }
   ],
   "source": [
    "result = es.search(index=\"notes\", size=2)   #  Recupère les 2 premiers documents\n",
    "\n",
    "for hit in result['hits']['hits']:      # Affiche les notes des résultats parcourus\n",
    "    note = hit['_source']\n",
    "    print(\"Patient Last Name:\", note['patient_lastname'])\n",
    "    print(\"Patient First Name:\", note['patient_firstname'])\n",
    "    print(\"Text:\", note['Text'])\n",
    "    print(\"Date:\", note['date'])\n",
    "    print(\"Patient Left:\", note['patient_left'])\n",
    "    print(\"Emotion:\", note['Emotion'])\n",
    "    print(\"Confidence:\", note['confidence'])\n",
    "    print(\"-------------------------\")\n"
   ]
  },
  {
   "cell_type": "code",
   "execution_count": 16,
   "metadata": {},
   "outputs": [
    {
     "name": "stdout",
     "output_type": "stream",
     "text": [
      "Got 10000 Hits:\n",
      "{'Text': 'i get really sweaty during these episodes and my stomach will feel really funny like i m free falling', 'Emotion': 'surprise', 'Tokens': \"['sweaty', 'episode', 'stomach', 'funny', 'free', 'falling']\", 'patient_firstname': 'Denise', 'patient_lastname': 'Willis', 'emotion': 'surprise', 'confidence': 0.6421239719366443, 'date': '2023-03-24', 'patient_left': False}\n",
      "{'Text': 'i have been feeling so overwhelmed lately', 'Emotion': 'fear', 'Tokens': \"['overwhelmed', 'lately']\", 'patient_firstname': 'Shane', 'patient_lastname': 'Bentley', 'emotion': 'fear', 'confidence': 0.5882103402242721, 'date': '2023-06-05', 'patient_left': False}\n",
      "{'Text': 'i learnt so much about the wonderful world of beaubronz and feel this lovely tanning brand fits perfectly with my latest mantra stolen from my boudoir lashes mother asma docrat', 'Emotion': 'love', 'Tokens': \"['learnt', 'wonderful', 'world', 'beaubronz', 'lovely', 'tanning', 'brand', 'fit', 'perfectly', 'latest', 'mantra', 'stolen', 'boudoir', 'lash', 'mother', 'asma', 'docrat']\", 'patient_firstname': 'Edgar', 'patient_lastname': 'Smith', 'emotion': 'love', 'confidence': 0.879165456206297, 'date': '2022-12-27', 'patient_left': True}\n",
      "{'Text': 'i feel rebellious because i don t particularly like watching romcoms but i get the feeling that i may be pretty good at writing them', 'Emotion': 'anger', 'Tokens': \"['rebellious', 'particularly', 'watching', 'romcoms', 'may', 'good', 'writing']\", 'patient_firstname': 'Amber', 'patient_lastname': 'Edwards', 'emotion': 'anger', 'confidence': 0.5862174213313215, 'date': '2022-07-30', 'patient_left': False}\n",
      "{'Text': 'i didnt feel that welcomed when i first entered morris quickly changed that and i left feeling very happy', 'Emotion': 'happy', 'Tokens': \"['welcomed', 'first', 'entered', 'morris', 'quickly', 'changed', 'left', 'happy']\", 'patient_firstname': 'Sarah', 'patient_lastname': 'Yang', 'emotion': 'happy', 'confidence': 0.9904399681336741, 'date': '2022-09-28', 'patient_left': True}\n",
      "{'Text': 'im contemplating and feeling skeptical', 'Emotion': 'fear', 'Tokens': \"['contemplating', 'skeptical']\", 'patient_firstname': 'Grace', 'patient_lastname': 'Wilson', 'emotion': 'fear', 'confidence': 0.9146208763744718, 'date': '2022-09-03', 'patient_left': True}\n",
      "{'Text': 'ive become anxious about in recent times is this there is certainly a feeling amongst some people of belief that they are under siege that they are often disadvantaged that they are looked at and considered in some way different and their faith makes them less worthy of regard he said', 'Emotion': 'sadness', 'Tokens': \"['become', 'anxious', 'recent', 'certainly', 'amongst', 'belief', 'siege', 'often', 'disadvantaged', 'looked', 'considered', 'different', 'faith', 'worthy', 'regard', 'said']\", 'patient_firstname': 'Kevin', 'patient_lastname': 'Black', 'emotion': 'sadness', 'confidence': 0.7805869608716486, 'date': '2023-05-25', 'patient_left': True}\n"
     ]
    },
    {
     "name": "stderr",
     "output_type": "stream",
     "text": [
      "/tmp/ipykernel_419760/3224154290.py:1: ElasticsearchWarning: Elasticsearch built-in security features are not enabled. Without authentication, your cluster could be accessible to anyone. See https://www.elastic.co/guide/en/elasticsearch/reference/7.17/security-minimal-setup.html to enable security.\n",
      "  resp = es.search(index=\"notes\", query={\"match_all\": {}})\n"
     ]
    }
   ],
   "source": [
    "resp = es.search(index=\"notes\", query={\"match_all\": {}})\n",
    "print(\"Got %d Hits:\" % resp['hits']['total']['value'])\n",
    "for hit in resp['hits']['hits'][0:7]:\n",
    "    print(hit['_source'])"
   ]
  },
  {
   "cell_type": "markdown",
   "metadata": {},
   "source": [
    "1 - Répartition des sentiments par patient"
   ]
  },
  {
   "cell_type": "code",
   "execution_count": 22,
   "metadata": {},
   "outputs": [
    {
     "name": "stdout",
     "output_type": "stream",
     "text": [
      "                                                Text   Emotion  \\\n",
      "0  i get really sweaty during these episodes and ...  surprise   \n",
      "1  i was feeling so discouraged we are already ro...   sadness   \n",
      "2  i feel a tender compassion glancing at her hug...      love   \n",
      "3  i wish i could say hey you know if i died tomo...   sadness   \n",
      "4  i feel a bit nostalgic as i wonder where my pa...      love   \n",
      "5    i feel have a fabulous birding weekend everyone     happy   \n",
      "6  i needed supportive caring understanding lovin...   sadness   \n",
      "7  i feel very stunned that people got it in a bi...  surprise   \n",
      "8  id like to write something interesting right n...   sadness   \n",
      "9         i kept feeling enraged that she was in too     anger   \n",
      "\n",
      "                                              Tokens patient_firstname  \\\n",
      "0  ['sweaty', 'episode', 'stomach', 'funny', 'fre...            Denise   \n",
      "1  ['discouraged', 'already', 'robbing', 'peter',...            Denise   \n",
      "2  ['tender', 'compassion', 'glancing', 'huge', '...            Denise   \n",
      "3  ['wish', 'hey', 'died', 'tomorrow', 'wouldnt',...            Denise   \n",
      "4  ['nostalgic', 'wonder', 'passion', 'writing', ...            Denise   \n",
      "5     ['fabulous', 'birding', 'weekend', 'everyone']            Denise   \n",
      "6  ['needed', 'supportive', 'caring', 'understand...            Denise   \n",
      "7                                 ['stunned', 'big']            Denise   \n",
      "8  ['id', 'write', 'interesting', 'unfortunately'...            Denise   \n",
      "9                                ['kept', 'enraged']            Denise   \n",
      "\n",
      "  patient_lastname   emotion  confidence        date  patient_left  \n",
      "0           Willis  surprise    0.642124  2023-03-24         False  \n",
      "1           Willis   sadness    0.946042  2022-10-14          True  \n",
      "2           Willis      love    0.872039  2023-02-24          True  \n",
      "3           Willis   sadness    0.994041  2022-07-26         False  \n",
      "4           Willis      love    0.788720  2022-10-21         False  \n",
      "5           Willis     happy    0.871864  2023-03-31          True  \n",
      "6           Willis      love    0.998619  2022-12-21          True  \n",
      "7           Willis  surprise    0.849280  2022-07-31          True  \n",
      "8           Willis   sadness    0.933731  2023-02-27          True  \n",
      "9           Willis     anger    0.836428  2023-01-03          True  \n",
      "emotion\n",
      "sadness     3\n",
      "love        3\n",
      "surprise    2\n",
      "happy       1\n",
      "anger       1\n",
      "Name: count, dtype: int64\n"
     ]
    },
    {
     "name": "stderr",
     "output_type": "stream",
     "text": [
      "/tmp/ipykernel_419760/1981086531.py:18: DeprecationWarning: The 'body' parameter is deprecated and will be removed in a future version. Instead use individual parameters.\n",
      "  result = es.search(index=index, body=query)\n",
      "/tmp/ipykernel_419760/1981086531.py:18: ElasticsearchWarning: Elasticsearch built-in security features are not enabled. Without authentication, your cluster could be accessible to anyone. See https://www.elastic.co/guide/en/elasticsearch/reference/7.17/security-minimal-setup.html to enable security.\n",
      "  result = es.search(index=index, body=query)\n"
     ]
    }
   ],
   "source": [
    "index = 'notes'  # Nom de l'index\n",
    "\n",
    "# Recherche des textes pour un patient donné\n",
    "patient_lastname = \"Willis\"\n",
    "patient_firstname = \"Denise\"\n",
    "\n",
    "query = {\n",
    "    \"query\": {\n",
    "        \"bool\": {\n",
    "            \"must\": [\n",
    "                {\"term\": {\"patient_lastname\": patient_lastname}},\n",
    "                {\"term\": {\"patient_firstname\": patient_firstname}}\n",
    "            ]\n",
    "        }\n",
    "    }\n",
    "}\n",
    "\n",
    "result = es.search(index=index, body=query)\n",
    "\n",
    "# Création du dataframe à partir des résultats de la recherche\n",
    "data = []\n",
    "for hit in result['hits']['hits']:\n",
    "    data.append(hit['_source'])\n",
    "\n",
    "df = pd.DataFrame(data)\n",
    "# Affichage de la répartition des sentiments des textes\n",
    "sentiment_counts = df['emotion'].value_counts()\n",
    "print(sentiment_counts)"
   ]
  },
  {
   "cell_type": "code",
   "execution_count": 17,
   "metadata": {},
   "outputs": [],
   "source": [
    "def get_sentiment_distribution(es, patient_firstname, patient_lastname):\n",
    "    query = {\n",
    "            \"size\": 10,\n",
    "            \"query\": {\n",
    "                \"bool\": {\n",
    "                    \"must\": [\n",
    "                        {\"term\": {\"patient_firstname\": patient_firstname}},\n",
    "                        {\"term\": {\"patient_lastname\": patient_lastname}}\n",
    "                    ]\n",
    "                }\n",
    "            },\n",
    "            \"aggs\": {\n",
    "                \"sentiment_distribution\": {\n",
    "                    \"terms\": {\"field\": \"emotion\"}\n",
    "                }\n",
    "            }\n",
    "        }\n",
    "\n",
    "    response = es.search(index=\"notes\", body=query)\n",
    "    print(response)\n",
    "    buckets = response[\"aggregations\"][\"sentiment_distribution\"][\"buckets\"]\n",
    "    print(buckets)\n",
    "    # Création du DataFrame\n",
    "    df = pd.DataFrame(buckets, columns=[\"key\", \"doc_count\"])\n",
    "    total_count = df[\"doc_count\"].sum()\n",
    "    \n",
    "    # Calcul des pourcentages\n",
    "    df[\"Percentage\"] = (df[\"doc_count\"] / total_count) * 100\n",
    "\n",
    "    return df"
   ]
  },
  {
   "cell_type": "code",
   "execution_count": 18,
   "metadata": {},
   "outputs": [
    {
     "name": "stderr",
     "output_type": "stream",
     "text": [
      "/tmp/ipykernel_419760/2193887750.py:19: DeprecationWarning: The 'body' parameter is deprecated and will be removed in a future version. Instead use individual parameters.\n",
      "  response = es.search(index=\"notes\", body=query)\n"
     ]
    },
    {
     "ename": "BadRequestError",
     "evalue": "BadRequestError(400, 'search_phase_execution_exception', 'Text fields are not optimised for operations that require per-document field data like aggregations and sorting, so these operations are disabled by default. Please use a keyword field instead. Alternatively, set fielddata=true on [emotion] in order to load field data by uninverting the inverted index. Note that this can use significant memory.')",
     "output_type": "error",
     "traceback": [
      "\u001b[0;31m---------------------------------------------------------------------------\u001b[0m",
      "\u001b[0;31mBadRequestError\u001b[0m                           Traceback (most recent call last)",
      "Cell \u001b[0;32mIn[18], line 1\u001b[0m\n\u001b[0;32m----> 1\u001b[0m get_sentiment_distribution(es,\u001b[39m'\u001b[39;49m\u001b[39mBonnie\u001b[39;49m\u001b[39m'\u001b[39;49m, \u001b[39m'\u001b[39;49m\u001b[39mEstrada\u001b[39;49m\u001b[39m'\u001b[39;49m)\n",
      "Cell \u001b[0;32mIn[17], line 19\u001b[0m, in \u001b[0;36mget_sentiment_distribution\u001b[0;34m(es, patient_firstname, patient_lastname)\u001b[0m\n\u001b[1;32m      1\u001b[0m \u001b[39mdef\u001b[39;00m \u001b[39mget_sentiment_distribution\u001b[39m(es, patient_firstname, patient_lastname):\n\u001b[1;32m      2\u001b[0m     query \u001b[39m=\u001b[39m {\n\u001b[1;32m      3\u001b[0m             \u001b[39m\"\u001b[39m\u001b[39msize\u001b[39m\u001b[39m\"\u001b[39m: \u001b[39m10\u001b[39m,\n\u001b[1;32m      4\u001b[0m             \u001b[39m\"\u001b[39m\u001b[39mquery\u001b[39m\u001b[39m\"\u001b[39m: {\n\u001b[0;32m   (...)\u001b[0m\n\u001b[1;32m     16\u001b[0m             }\n\u001b[1;32m     17\u001b[0m         }\n\u001b[0;32m---> 19\u001b[0m     response \u001b[39m=\u001b[39m es\u001b[39m.\u001b[39;49msearch(index\u001b[39m=\u001b[39;49m\u001b[39m\"\u001b[39;49m\u001b[39mnotes\u001b[39;49m\u001b[39m\"\u001b[39;49m, body\u001b[39m=\u001b[39;49mquery)\n\u001b[1;32m     20\u001b[0m     \u001b[39mprint\u001b[39m(response)\n\u001b[1;32m     21\u001b[0m     buckets \u001b[39m=\u001b[39m response[\u001b[39m\"\u001b[39m\u001b[39maggregations\u001b[39m\u001b[39m\"\u001b[39m][\u001b[39m\"\u001b[39m\u001b[39msentiment_distribution\u001b[39m\u001b[39m\"\u001b[39m][\u001b[39m\"\u001b[39m\u001b[39mbuckets\u001b[39m\u001b[39m\"\u001b[39m]\n",
      "File \u001b[0;32m~/Projets/NLP/psycho_NLP/venv/lib/python3.10/site-packages/elasticsearch/_sync/client/utils.py:414\u001b[0m, in \u001b[0;36m_rewrite_parameters.<locals>.wrapper.<locals>.wrapped\u001b[0;34m(*args, **kwargs)\u001b[0m\n\u001b[1;32m    411\u001b[0m         \u001b[39mexcept\u001b[39;00m \u001b[39mKeyError\u001b[39;00m:\n\u001b[1;32m    412\u001b[0m             \u001b[39mpass\u001b[39;00m\n\u001b[0;32m--> 414\u001b[0m \u001b[39mreturn\u001b[39;00m api(\u001b[39m*\u001b[39;49margs, \u001b[39m*\u001b[39;49m\u001b[39m*\u001b[39;49mkwargs)\n",
      "File \u001b[0;32m~/Projets/NLP/psycho_NLP/venv/lib/python3.10/site-packages/elasticsearch/_sync/client/__init__.py:3863\u001b[0m, in \u001b[0;36mElasticsearch.search\u001b[0;34m(self, index, aggregations, aggs, allow_no_indices, allow_partial_search_results, analyze_wildcard, analyzer, batched_reduce_size, ccs_minimize_roundtrips, collapse, default_operator, df, docvalue_fields, error_trace, expand_wildcards, explain, ext, fields, filter_path, from_, highlight, human, ignore_throttled, ignore_unavailable, indices_boost, knn, lenient, max_concurrent_shard_requests, min_compatible_shard_node, min_score, pit, post_filter, pre_filter_shard_size, preference, pretty, profile, q, query, rank, request_cache, rescore, rest_total_hits_as_int, routing, runtime_mappings, script_fields, scroll, search_after, search_type, seq_no_primary_term, size, slice, sort, source, source_excludes, source_includes, stats, stored_fields, suggest, suggest_field, suggest_mode, suggest_size, suggest_text, terminate_after, timeout, track_scores, track_total_hits, typed_keys, version)\u001b[0m\n\u001b[1;32m   3861\u001b[0m \u001b[39mif\u001b[39;00m __body \u001b[39mis\u001b[39;00m \u001b[39mnot\u001b[39;00m \u001b[39mNone\u001b[39;00m:\n\u001b[1;32m   3862\u001b[0m     __headers[\u001b[39m\"\u001b[39m\u001b[39mcontent-type\u001b[39m\u001b[39m\"\u001b[39m] \u001b[39m=\u001b[39m \u001b[39m\"\u001b[39m\u001b[39mapplication/json\u001b[39m\u001b[39m\"\u001b[39m\n\u001b[0;32m-> 3863\u001b[0m \u001b[39mreturn\u001b[39;00m \u001b[39mself\u001b[39;49m\u001b[39m.\u001b[39;49mperform_request(  \u001b[39m# type: ignore[return-value]\u001b[39;49;00m\n\u001b[1;32m   3864\u001b[0m     \u001b[39m\"\u001b[39;49m\u001b[39mPOST\u001b[39;49m\u001b[39m\"\u001b[39;49m, __path, params\u001b[39m=\u001b[39;49m__query, headers\u001b[39m=\u001b[39;49m__headers, body\u001b[39m=\u001b[39;49m__body\n\u001b[1;32m   3865\u001b[0m )\n",
      "File \u001b[0;32m~/Projets/NLP/psycho_NLP/venv/lib/python3.10/site-packages/elasticsearch/_sync/client/_base.py:320\u001b[0m, in \u001b[0;36mBaseClient.perform_request\u001b[0;34m(self, method, path, params, headers, body)\u001b[0m\n\u001b[1;32m    317\u001b[0m         \u001b[39mexcept\u001b[39;00m (\u001b[39mValueError\u001b[39;00m, \u001b[39mKeyError\u001b[39;00m, \u001b[39mTypeError\u001b[39;00m):\n\u001b[1;32m    318\u001b[0m             \u001b[39mpass\u001b[39;00m\n\u001b[0;32m--> 320\u001b[0m     \u001b[39mraise\u001b[39;00m HTTP_EXCEPTIONS\u001b[39m.\u001b[39mget(meta\u001b[39m.\u001b[39mstatus, ApiError)(\n\u001b[1;32m    321\u001b[0m         message\u001b[39m=\u001b[39mmessage, meta\u001b[39m=\u001b[39mmeta, body\u001b[39m=\u001b[39mresp_body\n\u001b[1;32m    322\u001b[0m     )\n\u001b[1;32m    324\u001b[0m \u001b[39m# 'X-Elastic-Product: Elasticsearch' should be on every 2XX response.\u001b[39;00m\n\u001b[1;32m    325\u001b[0m \u001b[39mif\u001b[39;00m \u001b[39mnot\u001b[39;00m \u001b[39mself\u001b[39m\u001b[39m.\u001b[39m_verified_elasticsearch:\n\u001b[1;32m    326\u001b[0m     \u001b[39m# If the header is set we mark the server as verified.\u001b[39;00m\n",
      "\u001b[0;31mBadRequestError\u001b[0m: BadRequestError(400, 'search_phase_execution_exception', 'Text fields are not optimised for operations that require per-document field data like aggregations and sorting, so these operations are disabled by default. Please use a keyword field instead. Alternatively, set fielddata=true on [emotion] in order to load field data by uninverting the inverted index. Note that this can use significant memory.')"
     ]
    }
   ],
   "source": [
    "get_sentiment_distribution(es,'Bonnie', 'Estrada')"
   ]
  },
  {
   "cell_type": "code",
   "execution_count": 9,
   "metadata": {},
   "outputs": [],
   "source": [
    "def compter_doc_sentiment(es,emotion):\n",
    "    query = {\n",
    "        \"size\": 0,\n",
    "        \"query\": {\n",
    "            \"terms\": {\n",
    "                \"emotion\": [emotion]\n",
    "            }\n",
    "        }\n",
    "    }\n",
    "   \n",
    "    response = es.search(index=\"notes\", body=query)\n",
    "\n",
    "    return response[\"hits\"][\"total\"][\"value\"]\n",
    "\n",
    "\n",
    "def compter_doc_sentiment_et_mot(es,emotion,emotion_word):\n",
    "    query = {\n",
    "        \"size\": 0,\n",
    "        \"query\": {\n",
    "            \"terms\": {\n",
    "                \"emotion\": [emotion]\n",
    "            }\n",
    "        },\n",
    "        \"post_filter\": {\n",
    "            \"match\": {\n",
    "                \"text\": emotion_word\n",
    "            }\n",
    "        }\n",
    "    }\n",
    "    \n",
    "    response = es.search(index=\"notes\", body=query)\n",
    "\n",
    "    return response[\"hits\"][\"total\"][\"value\"]"
   ]
  },
  {
   "cell_type": "code",
   "execution_count": 13,
   "metadata": {},
   "outputs": [
    {
     "name": "stdout",
     "output_type": "stream",
     "text": [
      "1617\n"
     ]
    },
    {
     "name": "stderr",
     "output_type": "stream",
     "text": [
      "/tmp/ipykernel_419760/2017715024.py:11: DeprecationWarning: The 'body' parameter is deprecated and will be removed in a future version. Instead use individual parameters.\n",
      "  response = es.search(index=\"notes\", body=query)\n",
      "/tmp/ipykernel_419760/2017715024.py:11: ElasticsearchWarning: Elasticsearch built-in security features are not enabled. Without authentication, your cluster could be accessible to anyone. See https://www.elastic.co/guide/en/elasticsearch/reference/7.17/security-minimal-setup.html to enable security.\n",
      "  response = es.search(index=\"notes\", body=query)\n",
      "/tmp/ipykernel_419760/2017715024.py:31: DeprecationWarning: The 'body' parameter is deprecated and will be removed in a future version. Instead use individual parameters.\n",
      "  response = es.search(index=\"notes\", body=query)\n",
      "/tmp/ipykernel_419760/2017715024.py:31: ElasticsearchWarning: Elasticsearch built-in security features are not enabled. Without authentication, your cluster could be accessible to anyone. See https://www.elastic.co/guide/en/elasticsearch/reference/7.17/security-minimal-setup.html to enable security.\n",
      "  response = es.search(index=\"notes\", body=query)\n"
     ]
    },
    {
     "data": {
      "text/plain": [
       "0"
      ]
     },
     "execution_count": 13,
     "metadata": {},
     "output_type": "execute_result"
    }
   ],
   "source": [
    "\n",
    "\n",
    "print(compter_doc_sentiment(es,'love'))\n",
    "compter_doc_sentiment_et_mot(es,'happy', 'love')"
   ]
  },
  {
   "cell_type": "code",
   "execution_count": 14,
   "metadata": {},
   "outputs": [
    {
     "name": "stderr",
     "output_type": "stream",
     "text": [
      "/tmp/ipykernel_419760/2017715024.py:31: DeprecationWarning: The 'body' parameter is deprecated and will be removed in a future version. Instead use individual parameters.\n",
      "  response = es.search(index=\"notes\", body=query)\n",
      "/tmp/ipykernel_419760/2017715024.py:31: ElasticsearchWarning: Elasticsearch built-in security features are not enabled. Without authentication, your cluster could be accessible to anyone. See https://www.elastic.co/guide/en/elasticsearch/reference/7.17/security-minimal-setup.html to enable security.\n",
      "  response = es.search(index=\"notes\", body=query)\n",
      "/tmp/ipykernel_419760/2017715024.py:11: DeprecationWarning: The 'body' parameter is deprecated and will be removed in a future version. Instead use individual parameters.\n",
      "  response = es.search(index=\"notes\", body=query)\n",
      "/tmp/ipykernel_419760/2017715024.py:11: ElasticsearchWarning: Elasticsearch built-in security features are not enabled. Without authentication, your cluster could be accessible to anyone. See https://www.elastic.co/guide/en/elasticsearch/reference/7.17/security-minimal-setup.html to enable security.\n",
      "  response = es.search(index=\"notes\", body=query)\n"
     ]
    },
    {
     "data": {
      "image/png": "[encoded data removed]",
      "text/plain": [
       "<Figure size 640x480 with 2 Axes>"
      ]
     },
     "metadata": {},
     "output_type": "display_data"
    }
   ],
   "source": [
    "import numpy as np\n",
    "import matplotlib.pyplot as plt\n",
    "\n",
    "# Liste des sentiments\n",
    "sentiments = ['happy', 'fear', 'sadness', 'anger', 'love', 'surprise']\n",
    "\n",
    "# Matrice de contradiction\n",
    "contradiction_matrix = np.zeros((len(sentiments), len(sentiments)))\n",
    "\n",
    "# Boucle pour chaque sentiment\n",
    "for i in range(len(sentiments)):\n",
    "    for j in range(len(sentiments)):\n",
    "        # Compter le nombre de documents avec le sentiment i et le mot j\n",
    "        count = compter_doc_sentiment_et_mot(es, sentiments[i], sentiments[j])\n",
    "        \n",
    "        # Calculer le pourcentage\n",
    "        total_count = compter_doc_sentiment(es, sentiments[i])\n",
    "        percentage = (count / total_count) * 100\n",
    "        \n",
    "        # Stocker le pourcentage dans la matrice de contradiction\n",
    "        contradiction_matrix[i][j] = percentage\n",
    "\n",
    "# Création de la HeatMap\n",
    "fig, ax = plt.subplots()\n",
    "heatmap = ax.imshow(contradiction_matrix, cmap='YlOrRd')\n",
    "\n",
    "ax.set_xticks(np.arange(len(sentiments)))\n",
    "ax.set_yticks(np.arange(len(sentiments)))\n",
    "ax.set_xticklabels(sentiments)\n",
    "ax.set_yticklabels(sentiments)\n",
    "\n",
    "# Ajouter les valeurs sur la HeatMap\n",
    "for i in range(len(sentiments)):\n",
    "    for j in range(len(sentiments)):\n",
    "        text = ax.text(j, i, \"{:.2f}%\".format(contradiction_matrix[i, j]), ha=\"center\", va=\"center\", color=\"black\")\n",
    "\n",
    "plt.colorbar(heatmap)\n",
    "plt.show()"
   ]
  }
 ],
 "metadata": {
  "kernelspec": {
   "display_name": "nlp-env",
   "language": "python",
   "name": "nlp-env"
  },
  "language_info": {
   "codemirror_mode": {
    "name": "ipython",
    "version": 3
   },
   "file_extension": ".py",
   "mimetype": "text/x-python",
   "name": "python",
   "nbconvert_exporter": "python",
   "pygments_lexer": "ipython3",
   "version": "3.10.6"
  },
  "orig_nbformat": 4
 },
 "nbformat": 4,
 "nbformat_minor": 2
}
