{
 "cells": [
  {
   "cell_type": "code",
   "execution_count": 4,
   "metadata": {},
   "outputs": [],
   "source": [
    "from elasticsearch import Elasticsearch\n",
    "import pandas as pd\n",
    "\n",
    "es = Elasticsearch([{'host': 'localhost', 'port': 9200,'scheme': 'http'}])      # Connexion à Elasticsearch"
   ]
  },
  {
   "cell_type": "code",
   "execution_count": 5,
   "metadata": {},
   "outputs": [
    {
     "name": "stderr",
     "output_type": "stream",
     "text": [
      "/var/folders/_s/5mkyygcx5flgldzp7jhrqr5w0000gn/T/ipykernel_56492/3730916846.py:1: DeprecationWarning: The 'body' parameter is deprecated and will be removed in a future version. Instead use individual parameters.\n",
      "  response = es.search(       # index du premier patient\n",
      "/var/folders/_s/5mkyygcx5flgldzp7jhrqr5w0000gn/T/ipykernel_56492/3730916846.py:1: ElasticsearchWarning: Elasticsearch built-in security features are not enabled. Without authentication, your cluster could be accessible to anyone. See https://www.elastic.co/guide/en/elasticsearch/reference/7.17/security-minimal-setup.html to enable security.\n",
      "  response = es.search(       # index du premier patient\n"
     ]
    },
    {
     "ename": "IndexError",
     "evalue": "list index out of range",
     "output_type": "error",
     "traceback": [
      "\u001b[0;31m---------------------------------------------------------------------------\u001b[0m",
      "\u001b[0;31mIndexError\u001b[0m                                Traceback (most recent call last)",
      "Cell \u001b[0;32mIn[5], line 9\u001b[0m\n\u001b[1;32m      1\u001b[0m response \u001b[39m=\u001b[39m es\u001b[39m.\u001b[39msearch(       \u001b[39m# index du premier patient\u001b[39;00m\n\u001b[1;32m      2\u001b[0m     index\u001b[39m=\u001b[39m\u001b[39m\"\u001b[39m\u001b[39mnotes\u001b[39m\u001b[39m\"\u001b[39m,\n\u001b[1;32m      3\u001b[0m     body\u001b[39m=\u001b[39m{\n\u001b[0;32m   (...)\u001b[0m\n\u001b[1;32m      7\u001b[0m     }\n\u001b[1;32m      8\u001b[0m )\n\u001b[0;32m----> 9\u001b[0m first_name \u001b[39m=\u001b[39m response[\u001b[39m\"\u001b[39;49m\u001b[39mhits\u001b[39;49m\u001b[39m\"\u001b[39;49m][\u001b[39m\"\u001b[39;49m\u001b[39mhits\u001b[39;49m\u001b[39m\"\u001b[39;49m][\u001b[39m0\u001b[39;49m][\u001b[39m\"\u001b[39m\u001b[39m_source\u001b[39m\u001b[39m\"\u001b[39m][\u001b[39m\"\u001b[39m\u001b[39mpatient_firstname\u001b[39m\u001b[39m\"\u001b[39m]  \u001b[39m# Récupère le prénom\u001b[39;00m\n\u001b[1;32m     10\u001b[0m last_name \u001b[39m=\u001b[39m response[\u001b[39m\"\u001b[39m\u001b[39mhits\u001b[39m\u001b[39m\"\u001b[39m][\u001b[39m\"\u001b[39m\u001b[39mhits\u001b[39m\u001b[39m\"\u001b[39m][\u001b[39m0\u001b[39m][\u001b[39m\"\u001b[39m\u001b[39m_source\u001b[39m\u001b[39m\"\u001b[39m][\u001b[39m\"\u001b[39m\u001b[39mpatient_lastname\u001b[39m\u001b[39m\"\u001b[39m]  \u001b[39m# Récupère le nom de famille\u001b[39;00m\n\u001b[1;32m     11\u001b[0m \u001b[39mprint\u001b[39m(first_name, last_name)\n",
      "\u001b[0;31mIndexError\u001b[0m: list index out of range"
     ]
    }
   ],
   "source": [
    "response = es.search(       # index du premier patient\n",
    "    index=\"notes\",\n",
    "    body={\n",
    "        \"query\": {\"match_all\": {}},\n",
    "        \"sort\": {\"date\": {\"order\": \"asc\"}},\n",
    "        \"size\": 1\n",
    "    }\n",
    ")\n",
    "first_name = response[\"hits\"][\"hits\"][0][\"_source\"][\"patient_firstname\"]  # Récupère le prénom\n",
    "last_name = response[\"hits\"][\"hits\"][0][\"_source\"][\"patient_lastname\"]  # Récupère le nom de famille\n",
    "print(first_name, last_name)"
   ]
  },
  {
   "cell_type": "markdown",
   "metadata": {},
   "source": [
    "Requêtes"
   ]
  },
  {
   "cell_type": "code",
   "execution_count": null,
   "metadata": {},
   "outputs": [
    {
     "name": "stdout",
     "output_type": "stream",
     "text": [
      "Patient Last Name: Espinoza\n",
      "Patient First Name: Yvonne\n",
      "Text: i can t let go of that sad feeling that i want to be accepted here in this first home of mine\n",
      "Date: 2022-08-15\n",
      "Patient Left: True\n",
      "Emotion: love\n",
      "Confidence: 0.47055910806738893\n",
      "-------------------------\n",
      "Patient Last Name: Grant\n",
      "Patient First Name: Sarah\n",
      "Text: on a boat trip to denmark\n",
      "Date: 2023-02-09\n",
      "Patient Left: False\n",
      "Emotion: happy\n",
      "Confidence: 0.7427826342216294\n",
      "-------------------------\n"
     ]
    },
    {
     "name": "stderr",
     "output_type": "stream",
     "text": [
      "/tmp/ipykernel_460618/272352446.py:1: ElasticsearchWarning: Elasticsearch built-in security features are not enabled. Without authentication, your cluster could be accessible to anyone. See https://www.elastic.co/guide/en/elasticsearch/reference/7.17/security-minimal-setup.html to enable security.\n",
      "  result = es.search(index=\"notes\", size=2)   #  Recupère les 2 premiers documents\n"
     ]
    }
   ],
   "source": [
    "result = es.search(index=\"notes\", size=2)   #  Recupère les 2 premiers documents\n",
    "\n",
    "for hit in result['hits']['hits']:      # Affiche les notes des résultats parcourus\n",
    "    note = hit['_source']\n",
    "    print(\"Patient Last Name:\", note['patient_lastname'])\n",
    "    print(\"Patient First Name:\", note['patient_firstname'])\n",
    "    print(\"Text:\", note['Text'])\n",
    "    print(\"Date:\", note['date'])\n",
    "    print(\"Patient Left:\", note['patient_left'])\n",
    "    print(\"Emotion:\", note['Emotion'])\n",
    "    print(\"Confidence:\", note['confidence'])\n",
    "    print(\"-------------------------\")\n"
   ]
  },
  {
   "cell_type": "markdown",
   "metadata": {},
   "source": [
    "1 - Répartition des emotions par patient"
   ]
  },
  {
   "cell_type": "code",
   "execution_count": null,
   "metadata": {},
   "outputs": [],
   "source": [
    "def get_emotion_distribution(patient_lastname:str, patient_firstname:str) -> pd.DataFrame:\n",
    "    \"\"\"_summary_\n",
    "    Prends le prenom et le nom d'un patient, et retourne le nombre de textes et son pourcentage pour chaque emotion\n",
    "    \"\"\"\n",
    "    query = {           #requête\n",
    "        \"size\": 0,\n",
    "        \"query\": {\n",
    "            \"bool\": {\n",
    "                \"must\": [\n",
    "                    {\"term\": {\"patient_firstname\": patient_firstname}},\n",
    "                    {\"term\": {\"patient_lastname\": patient_lastname}}\n",
    "                ]\n",
    "            }\n",
    "        },\n",
    "        \"aggs\": {\n",
    "            \"sentiment_distribution\": {\n",
    "                \"terms\": {\"field\": \"Emotion\"}\n",
    "            }\n",
    "        }\n",
    "    }\n",
    "    result = es.search(index='notes', body=query)\n",
    "    buckets = result[\"aggregations\"][\"sentiment_distribution\"][\"buckets\"]\n",
    "    df = pd.DataFrame(buckets, columns=[\"key\", \"doc_count\"])    # crée le dataframe\n",
    "    total_count = df[\"doc_count\"].sum()\n",
    "    df[\"Percent\"] = round(((df[\"doc_count\"] / total_count) * 100),2)    # Calcul des pourcentages\n",
    "    return df"
   ]
  },
  {
   "cell_type": "code",
   "execution_count": null,
   "metadata": {},
   "outputs": [
    {
     "name": "stderr",
     "output_type": "stream",
     "text": [
      "/tmp/ipykernel_460618/649475586.py:21: DeprecationWarning: The 'body' parameter is deprecated and will be removed in a future version. Instead use individual parameters.\n",
      "  result = es.search(index='notes', body=query)\n",
      "/tmp/ipykernel_460618/649475586.py:21: ElasticsearchWarning: Elasticsearch built-in security features are not enabled. Without authentication, your cluster could be accessible to anyone. See https://www.elastic.co/guide/en/elasticsearch/reference/7.17/security-minimal-setup.html to enable security.\n",
      "  result = es.search(index='notes', body=query)\n"
     ]
    },
    {
     "data": {
      "text/html": [
       "<div>\n",
       "<style scoped>\n",
       "    .dataframe tbody tr th:only-of-type {\n",
       "        vertical-align: middle;\n",
       "    }\n",
       "\n",
       "    .dataframe tbody tr th {\n",
       "        vertical-align: top;\n",
       "    }\n",
       "\n",
       "    .dataframe thead th {\n",
       "        text-align: right;\n",
       "    }\n",
       "</style>\n",
       "<table border=\"1\" class=\"dataframe\">\n",
       "  <thead>\n",
       "    <tr style=\"text-align: right;\">\n",
       "      <th></th>\n",
       "      <th>key</th>\n",
       "      <th>doc_count</th>\n",
       "      <th>Percent</th>\n",
       "    </tr>\n",
       "  </thead>\n",
       "  <tbody>\n",
       "    <tr>\n",
       "      <th>0</th>\n",
       "      <td>sadness</td>\n",
       "      <td>35</td>\n",
       "      <td>28.93</td>\n",
       "    </tr>\n",
       "    <tr>\n",
       "      <th>1</th>\n",
       "      <td>happy</td>\n",
       "      <td>34</td>\n",
       "      <td>28.10</td>\n",
       "    </tr>\n",
       "    <tr>\n",
       "      <th>2</th>\n",
       "      <td>fear</td>\n",
       "      <td>26</td>\n",
       "      <td>21.49</td>\n",
       "    </tr>\n",
       "    <tr>\n",
       "      <th>3</th>\n",
       "      <td>anger</td>\n",
       "      <td>17</td>\n",
       "      <td>14.05</td>\n",
       "    </tr>\n",
       "    <tr>\n",
       "      <th>4</th>\n",
       "      <td>love</td>\n",
       "      <td>6</td>\n",
       "      <td>4.96</td>\n",
       "    </tr>\n",
       "    <tr>\n",
       "      <th>5</th>\n",
       "      <td>surprise</td>\n",
       "      <td>3</td>\n",
       "      <td>2.48</td>\n",
       "    </tr>\n",
       "  </tbody>\n",
       "</table>\n",
       "</div>"
      ],
      "text/plain": [
       "        key  doc_count  Percent\n",
       "0   sadness         35    28.93\n",
       "1     happy         34    28.10\n",
       "2      fear         26    21.49\n",
       "3     anger         17    14.05\n",
       "4      love          6     4.96\n",
       "5  surprise          3     2.48"
      ]
     },
     "execution_count": 47,
     "metadata": {},
     "output_type": "execute_result"
    }
   ],
   "source": [
    "get_emotion_distribution(last_name, first_name)"
   ]
  },
  {
   "cell_type": "markdown",
   "metadata": {},
   "source": [
    "2 - Matrice des emotions contradictoires"
   ]
  },
  {
   "cell_type": "code",
   "execution_count": null,
   "metadata": {},
   "outputs": [],
   "source": [
    "def emotion_count(es,emotion:str) -> int:\n",
    "    \"\"\"\n",
    "    Compte le nombre de document avec l'émotion en argument dans le champs \"emotion\"\n",
    "    \"\"\"\n",
    "    query = {\n",
    "        \"size\": 0,\n",
    "        \"query\": {\n",
    "            \"terms\": {\n",
    "                \"emotion\": [emotion]\n",
    "            }\n",
    "        }\n",
    "    }\n",
    "    response = es.search(index=\"notes\", body=query)\n",
    "    return response[\"hits\"][\"total\"][\"value\"]"
   ]
  },
  {
   "cell_type": "code",
   "execution_count": null,
   "metadata": {},
   "outputs": [
    {
     "name": "stderr",
     "output_type": "stream",
     "text": [
      "/tmp/ipykernel_460618/527221375.py:10: DeprecationWarning: The 'body' parameter is deprecated and will be removed in a future version. Instead use individual parameters.\n",
      "  response = es.search(index=\"notes\", body=query)\n",
      "/tmp/ipykernel_460618/527221375.py:10: ElasticsearchWarning: Elasticsearch built-in security features are not enabled. Without authentication, your cluster could be accessible to anyone. See https://www.elastic.co/guide/en/elasticsearch/reference/7.17/security-minimal-setup.html to enable security.\n",
      "  response = es.search(index=\"notes\", body=query)\n"
     ]
    },
    {
     "data": {
      "text/plain": [
       "1617"
      ]
     },
     "execution_count": 71,
     "metadata": {},
     "output_type": "execute_result"
    }
   ],
   "source": [
    "emotion_count(es, 'love')"
   ]
  },
  {
   "cell_type": "code",
<<<<<<< HEAD
   "execution_count": 112,
=======
   "execution_count": null,
>>>>>>> ff43c24db42e476368ee676565f098688387ef1f
   "metadata": {},
   "outputs": [],
   "source": [
    "def count_emotion_in_emotion(es, emotion1:str, emotion2:str) -> int:\n",
    "    \"\"\"_summary_\n",
    "    Prends deux émotions en argument, puis filtre les entrées qui ont :\n",
    "    - la première emotion dans le champs \"emotion\"\n",
    "    - la seconde emotion dans le champs \"Text\"\n",
    "    Compte le nombre d'entrées et retourne le chiffre\n",
    "    \"\"\"\n",
    "    query = {\n",
    "        \"query\": {\n",
    "            \"bool\": {\n",
    "                \"must\": [\n",
    "                    {\"match\": {\"emotion\": emotion1}},\n",
    "                    {\"match\": {\"Text\": emotion2}}\n",
    "                ]\n",
    "            }\n",
    "        },\n",
    "        \"size\": 0\n",
    "    }\n",
    "\n",
    "    response = es.search(index=\"notes\", body=query)\n",
    "    count = response[\"hits\"][\"total\"][\"value\"]\n",
    "    \n",
    "    return count"
   ]
  },
  {
   "cell_type": "code",
<<<<<<< HEAD
   "execution_count": 113,
=======
   "execution_count": null,
>>>>>>> ff43c24db42e476368ee676565f098688387ef1f
   "metadata": {},
   "outputs": [
    {
     "name": "stderr",
     "output_type": "stream",
     "text": [
      "/tmp/ipykernel_460618/243960960.py:20: DeprecationWarning: The 'body' parameter is deprecated and will be removed in a future version. Instead use individual parameters.\n",
      "  response = es.search(index=\"notes\", body=query)\n",
      "/tmp/ipykernel_460618/243960960.py:20: ElasticsearchWarning: Elasticsearch built-in security features are not enabled. Without authentication, your cluster could be accessible to anyone. See https://www.elastic.co/guide/en/elasticsearch/reference/7.17/security-minimal-setup.html to enable security.\n",
      "  response = es.search(index=\"notes\", body=query)\n"
     ]
    },
    {
     "data": {
      "text/plain": [
       "15"
      ]
     },
     "execution_count": 113,
     "metadata": {},
     "output_type": "execute_result"
    }
   ],
   "source": [
    "count_emotion_in_emotion(es, \"happy\", \"fear\")"
   ]
  },
  {
   "cell_type": "code",
<<<<<<< HEAD
   "execution_count": 127,
   "metadata": {},
   "outputs": [],
   "source": [
    "import numpy as np\n",
    "import matplotlib.pyplot as plt"
   ]
  },
  {
   "cell_type": "code",
   "execution_count": 126,
=======
   "execution_count": null,
>>>>>>> ff43c24db42e476368ee676565f098688387ef1f
   "metadata": {},
   "outputs": [
    {
     "name": "stderr",
     "output_type": "stream",
     "text": [
      "/tmp/ipykernel_460618/243960960.py:20: DeprecationWarning: The 'body' parameter is deprecated and will be removed in a future version. Instead use individual parameters.\n",
      "  response = es.search(index=\"notes\", body=query)\n",
      "/tmp/ipykernel_460618/243960960.py:20: ElasticsearchWarning: Elasticsearch built-in security features are not enabled. Without authentication, your cluster could be accessible to anyone. See https://www.elastic.co/guide/en/elasticsearch/reference/7.17/security-minimal-setup.html to enable security.\n",
      "  response = es.search(index=\"notes\", body=query)\n",
      "/tmp/ipykernel_460618/2871341449.py:11: DeprecationWarning: The 'body' parameter is deprecated and will be removed in a future version. Instead use individual parameters.\n",
      "  response = es.search(index=\"notes\", body=query)\n",
      "/tmp/ipykernel_460618/2871341449.py:11: ElasticsearchWarning: Elasticsearch built-in security features are not enabled. Without authentication, your cluster could be accessible to anyone. See https://www.elastic.co/guide/en/elasticsearch/reference/7.17/security-minimal-setup.html to enable security.\n",
      "  response = es.search(index=\"notes\", body=query)\n"
     ]
    },
    {
     "data": {
      "image/png": "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",
      "text/plain": [
       "<Figure size 640x480 with 2 Axes>"
      ]
     },
     "metadata": {},
     "output_type": "display_data"
    }
   ],
   "source": [
    "emotions = ['happy', 'fear', 'sadness', 'anger', 'love', 'surprise']    # Liste des emotions\n",
    "\n",
    "contradiction_matrix = np.zeros((len(emotions), len(emotions)))     # Matrice de contradiction\n",
    "\n",
    "for i in range(len(emotions)):       # Boucle pour chaque sentiment\n",
    "    for j in range(len(emotions)):\n",
    "        count = count_emotion_in_emotion(es, emotions[i], emotions[j])\n",
    "        \n",
    "\n",
    "        total_count = emotion_count(es, emotions[i])        # Calcul du pourcentage\n",
    "        percentage = round(((count / total_count) * 100),2)\n",
    "        \n",
    "        contradiction_matrix[i][j] = percentage # Stocker le pourcentage dans la matrice de contradiction\n",
    "\n",
    "fig, ax = plt.subplots()    # Création de la HeatMap\n",
    "heatmap = ax.imshow(contradiction_matrix, cmap='Reds')\n",
    "\n",
    "ax.set_xticks(np.arange(len(emotions)))\n",
    "ax.set_yticks(np.arange(len(emotions)))\n",
    "ax.set_xticklabels(emotions)\n",
    "ax.set_yticklabels(emotions)\n",
    "\n",
    "for i in range(len(emotions)):  # Ajouter les valeurs sur la HeatMap\n",
    "    for j in range(len(emotions)):\n",
    "        text = ax.text(j, i, \"{:.2f}%\".format(contradiction_matrix[i, j]), ha=\"center\", va=\"center\", color=\"black\")\n",
    "\n",
    "plt.colorbar(heatmap)\n",
    "plt.show()"
   ]
  },
  {
   "cell_type": "markdown",
   "metadata": {},
   "source": [
    "3 - Etapes du deuil"
   ]
  },
  {
   "cell_type": "code",
   "execution_count": null,
   "metadata": {},
   "outputs": [],
   "source": []
  }
 ],
 "metadata": {
  "kernelspec": {
   "display_name": "NLP",
   "language": "python",
   "name": "python3"
  },
  "language_info": {
   "codemirror_mode": {
    "name": "ipython",
    "version": 3
   },
   "file_extension": ".py",
   "mimetype": "text/x-python",
   "name": "python",
   "nbconvert_exporter": "python",
   "pygments_lexer": "ipython3",
   "version": "3.9.17"
  },
  "orig_nbformat": 4
 },
 "nbformat": 4,
 "nbformat_minor": 2
}
