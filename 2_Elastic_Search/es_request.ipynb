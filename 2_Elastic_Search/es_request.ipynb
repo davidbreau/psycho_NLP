{
 "cells": [
  {
   "cell_type": "code",
   "execution_count": 1,
   "metadata": {},
   "outputs": [],
   "source": [
    "from elasticsearch import Elasticsearch\n",
    "import pandas as pd\n",
    "\n",
    "# Connexion à Elasticsearch\n",
    "es = Elasticsearch([{'host': 'localhost', 'port': 9200,'scheme': 'http'}])"
   ]
  },
  {
   "cell_type": "code",
   "execution_count": 2,
   "metadata": {},
   "outputs": [
    {
     "name": "stdout",
     "output_type": "stream",
     "text": [
      "Got 10000 Hits:\n",
      "{'Text': 'i do not feel miserable at all because my family is not the type that celebrates eid', 'Emotion': 'sadness', 'Tokens': \"['miserable', 'family', 'type', 'celebrates', 'eid']\", 'patient_firstname': 'Young', 'patient_lastname': 'Dawn', 'emotion': 'sadness', 'confidence': 0.9320817911161929, 'date': '2023-02-22', 'patient_left': False}\n",
      "{'Text': 'i might go get a car wash if i am feeling really generous my car needs it', 'Emotion': 'happy', 'Tokens': \"['might', 'car', 'wash', 'generous', 'car']\", 'patient_firstname': 'Hall', 'patient_lastname': 'Blake', 'emotion': 'happy', 'confidence': 0.7843972261874939, 'date': '2022-10-02', 'patient_left': True}\n",
      "{'Text': 'i still feel sleep deprived she is almost sleeping through the night giving us', 'Emotion': 'sadness', 'Tokens': \"['sleep', 'deprived', 'almost', 'sleeping', 'night', 'giving', 'u']\", 'patient_firstname': 'Turner', 'patient_lastname': 'Anthony', 'emotion': 'sadness', 'confidence': 0.9554573722591212, 'date': '2023-03-19', 'patient_left': True}\n",
      "{'Text': 'i just feel really violent right now', 'Emotion': 'anger', 'Tokens': \"['violent']\", 'patient_firstname': 'Wallace', 'patient_lastname': 'Kathleen', 'emotion': 'anger', 'confidence': 0.9044783716434357, 'date': '2022-12-15', 'patient_left': True}\n",
      "{'Text': 'i am bloging again i am sitting here feeling content with my dogs amp cat etc and i know that how lucky we are the truth is we', 'Emotion': 'happy', 'Tokens': \"['bloging', 'sitting', 'content', 'dog', 'amp', 'cat', 'etc', 'lucky', 'truth']\", 'patient_firstname': 'Patterson', 'patient_lastname': 'Regina', 'emotion': 'happy', 'confidence': 0.9845985899002786, 'date': '2022-07-21', 'patient_left': False}\n",
      "{'Text': 'i started feeling funny and then friday i woke up sick as a dog', 'Emotion': 'surprise', 'Tokens': \"['started', 'funny', 'friday', 'woke', 'sick', 'dog']\", 'patient_firstname': 'Edwards', 'patient_lastname': 'Melissa', 'emotion': 'surprise', 'confidence': 0.8795971894156851, 'date': '2023-03-25', 'patient_left': True}\n",
      "{'Text': 'i feel a need to protect my parents against the witch hunt that repressed memory therapy can be', 'Emotion': 'sadness', 'Tokens': \"['protect', 'parent', 'witch', 'hunt', 'repressed', 'memory', 'therapy']\", 'patient_firstname': 'Levine', 'patient_lastname': 'Melissa', 'emotion': 'sadness', 'confidence': 0.7761324714082657, 'date': '2022-11-01', 'patient_left': True}\n"
     ]
    },
    {
     "name": "stderr",
     "output_type": "stream",
     "text": [
      "/tmp/ipykernel_400147/3224154290.py:1: ElasticsearchWarning: Elasticsearch built-in security features are not enabled. Without authentication, your cluster could be accessible to anyone. See https://www.elastic.co/guide/en/elasticsearch/reference/7.17/security-minimal-setup.html to enable security.\n",
      "  resp = es.search(index=\"notes\", query={\"match_all\": {}})\n"
     ]
    }
   ],
   "source": [
    "resp = es.search(index=\"notes\", query={\"match_all\": {}})\n",
    "print(\"Got %d Hits:\" % resp['hits']['total']['value'])\n",
    "for hit in resp['hits']['hits'][0:7]:\n",
    "    print(hit['_source'])"
   ]
  },
  {
   "cell_type": "markdown",
   "metadata": {},
   "source": [
    "1 - Répartition des sentiments par patient"
   ]
  },
  {
   "cell_type": "code",
   "execution_count": 7,
   "metadata": {},
   "outputs": [
    {
     "name": "stderr",
     "output_type": "stream",
     "text": [
      "/tmp/ipykernel_400147/1587608412.py:20: DeprecationWarning: The 'body' parameter is deprecated and will be removed in a future version. Instead use individual parameters.\n",
      "  response = es.search(index=\"notes\", body=query)\n"
     ]
    },
    {
     "ename": "BadRequestError",
     "evalue": "BadRequestError(400, 'search_phase_execution_exception', 'Text fields are not optimised for operations that require per-document field data like aggregations and sorting, so these operations are disabled by default. Please use a keyword field instead. Alternatively, set fielddata=true on [Emotion] in order to load field data by uninverting the inverted index. Note that this can use significant memory.')",
     "output_type": "error",
     "traceback": [
      "\u001b[0;31m---------------------------------------------------------------------------\u001b[0m",
      "\u001b[0;31mBadRequestError\u001b[0m                           Traceback (most recent call last)",
      "Cell \u001b[0;32mIn[7], line 27\u001b[0m\n\u001b[1;32m     24\u001b[0m     df \u001b[39m=\u001b[39m pd\u001b[39m.\u001b[39mDataFrame(buckets, columns\u001b[39m=\u001b[39m[\u001b[39m\"\u001b[39m\u001b[39mkey\u001b[39m\u001b[39m\"\u001b[39m, \u001b[39m\"\u001b[39m\u001b[39mdoc_count\u001b[39m\u001b[39m\"\u001b[39m])\n\u001b[1;32m     25\u001b[0m     \u001b[39mreturn\u001b[39;00m df\n\u001b[0;32m---> 27\u001b[0m \u001b[39mprint\u001b[39m(get_sentiment_distribution(es,\u001b[39m'\u001b[39;49m\u001b[39mSamantha\u001b[39;49m\u001b[39m'\u001b[39;49m,\u001b[39m'\u001b[39;49m\u001b[39mSmith\u001b[39;49m\u001b[39m'\u001b[39;49m))\n",
      "Cell \u001b[0;32mIn[7], line 20\u001b[0m, in \u001b[0;36mget_sentiment_distribution\u001b[0;34m(es, patient_firstname, patient_lastname)\u001b[0m\n\u001b[1;32m      1\u001b[0m \u001b[39mdef\u001b[39;00m \u001b[39mget_sentiment_distribution\u001b[39m(es,patient_firstname, patient_lastname):\n\u001b[1;32m      2\u001b[0m     query \u001b[39m=\u001b[39m {\n\u001b[1;32m      3\u001b[0m             \u001b[39m\"\u001b[39m\u001b[39msize\u001b[39m\u001b[39m\"\u001b[39m: \u001b[39m10\u001b[39m,\n\u001b[1;32m      4\u001b[0m             \u001b[39m\"\u001b[39m\u001b[39mquery\u001b[39m\u001b[39m\"\u001b[39m: {\n\u001b[0;32m   (...)\u001b[0m\n\u001b[1;32m     16\u001b[0m             }\n\u001b[1;32m     17\u001b[0m         }\n\u001b[0;32m---> 20\u001b[0m     response \u001b[39m=\u001b[39m es\u001b[39m.\u001b[39;49msearch(index\u001b[39m=\u001b[39;49m\u001b[39m\"\u001b[39;49m\u001b[39mnotes\u001b[39;49m\u001b[39m\"\u001b[39;49m, body\u001b[39m=\u001b[39;49mquery)\n\u001b[1;32m     22\u001b[0m     buckets \u001b[39m=\u001b[39m response[\u001b[39m\"\u001b[39m\u001b[39maggregations\u001b[39m\u001b[39m\"\u001b[39m][\u001b[39m\"\u001b[39m\u001b[39msentiment_distribution\u001b[39m\u001b[39m\"\u001b[39m][\u001b[39m\"\u001b[39m\u001b[39mbuckets\u001b[39m\u001b[39m\"\u001b[39m]\n\u001b[1;32m     24\u001b[0m     df \u001b[39m=\u001b[39m pd\u001b[39m.\u001b[39mDataFrame(buckets, columns\u001b[39m=\u001b[39m[\u001b[39m\"\u001b[39m\u001b[39mkey\u001b[39m\u001b[39m\"\u001b[39m, \u001b[39m\"\u001b[39m\u001b[39mdoc_count\u001b[39m\u001b[39m\"\u001b[39m])\n",
      "File \u001b[0;32m~/Projets/NLP/psycho_NLP/venv/lib/python3.10/site-packages/elasticsearch/_sync/client/utils.py:414\u001b[0m, in \u001b[0;36m_rewrite_parameters.<locals>.wrapper.<locals>.wrapped\u001b[0;34m(*args, **kwargs)\u001b[0m\n\u001b[1;32m    411\u001b[0m         \u001b[39mexcept\u001b[39;00m \u001b[39mKeyError\u001b[39;00m:\n\u001b[1;32m    412\u001b[0m             \u001b[39mpass\u001b[39;00m\n\u001b[0;32m--> 414\u001b[0m \u001b[39mreturn\u001b[39;00m api(\u001b[39m*\u001b[39;49margs, \u001b[39m*\u001b[39;49m\u001b[39m*\u001b[39;49mkwargs)\n",
      "File \u001b[0;32m~/Projets/NLP/psycho_NLP/venv/lib/python3.10/site-packages/elasticsearch/_sync/client/__init__.py:3863\u001b[0m, in \u001b[0;36mElasticsearch.search\u001b[0;34m(self, index, aggregations, aggs, allow_no_indices, allow_partial_search_results, analyze_wildcard, analyzer, batched_reduce_size, ccs_minimize_roundtrips, collapse, default_operator, df, docvalue_fields, error_trace, expand_wildcards, explain, ext, fields, filter_path, from_, highlight, human, ignore_throttled, ignore_unavailable, indices_boost, knn, lenient, max_concurrent_shard_requests, min_compatible_shard_node, min_score, pit, post_filter, pre_filter_shard_size, preference, pretty, profile, q, query, rank, request_cache, rescore, rest_total_hits_as_int, routing, runtime_mappings, script_fields, scroll, search_after, search_type, seq_no_primary_term, size, slice, sort, source, source_excludes, source_includes, stats, stored_fields, suggest, suggest_field, suggest_mode, suggest_size, suggest_text, terminate_after, timeout, track_scores, track_total_hits, typed_keys, version)\u001b[0m\n\u001b[1;32m   3861\u001b[0m \u001b[39mif\u001b[39;00m __body \u001b[39mis\u001b[39;00m \u001b[39mnot\u001b[39;00m \u001b[39mNone\u001b[39;00m:\n\u001b[1;32m   3862\u001b[0m     __headers[\u001b[39m\"\u001b[39m\u001b[39mcontent-type\u001b[39m\u001b[39m\"\u001b[39m] \u001b[39m=\u001b[39m \u001b[39m\"\u001b[39m\u001b[39mapplication/json\u001b[39m\u001b[39m\"\u001b[39m\n\u001b[0;32m-> 3863\u001b[0m \u001b[39mreturn\u001b[39;00m \u001b[39mself\u001b[39;49m\u001b[39m.\u001b[39;49mperform_request(  \u001b[39m# type: ignore[return-value]\u001b[39;49;00m\n\u001b[1;32m   3864\u001b[0m     \u001b[39m\"\u001b[39;49m\u001b[39mPOST\u001b[39;49m\u001b[39m\"\u001b[39;49m, __path, params\u001b[39m=\u001b[39;49m__query, headers\u001b[39m=\u001b[39;49m__headers, body\u001b[39m=\u001b[39;49m__body\n\u001b[1;32m   3865\u001b[0m )\n",
      "File \u001b[0;32m~/Projets/NLP/psycho_NLP/venv/lib/python3.10/site-packages/elasticsearch/_sync/client/_base.py:320\u001b[0m, in \u001b[0;36mBaseClient.perform_request\u001b[0;34m(self, method, path, params, headers, body)\u001b[0m\n\u001b[1;32m    317\u001b[0m         \u001b[39mexcept\u001b[39;00m (\u001b[39mValueError\u001b[39;00m, \u001b[39mKeyError\u001b[39;00m, \u001b[39mTypeError\u001b[39;00m):\n\u001b[1;32m    318\u001b[0m             \u001b[39mpass\u001b[39;00m\n\u001b[0;32m--> 320\u001b[0m     \u001b[39mraise\u001b[39;00m HTTP_EXCEPTIONS\u001b[39m.\u001b[39mget(meta\u001b[39m.\u001b[39mstatus, ApiError)(\n\u001b[1;32m    321\u001b[0m         message\u001b[39m=\u001b[39mmessage, meta\u001b[39m=\u001b[39mmeta, body\u001b[39m=\u001b[39mresp_body\n\u001b[1;32m    322\u001b[0m     )\n\u001b[1;32m    324\u001b[0m \u001b[39m# 'X-Elastic-Product: Elasticsearch' should be on every 2XX response.\u001b[39;00m\n\u001b[1;32m    325\u001b[0m \u001b[39mif\u001b[39;00m \u001b[39mnot\u001b[39;00m \u001b[39mself\u001b[39m\u001b[39m.\u001b[39m_verified_elasticsearch:\n\u001b[1;32m    326\u001b[0m     \u001b[39m# If the header is set we mark the server as verified.\u001b[39;00m\n",
      "\u001b[0;31mBadRequestError\u001b[0m: BadRequestError(400, 'search_phase_execution_exception', 'Text fields are not optimised for operations that require per-document field data like aggregations and sorting, so these operations are disabled by default. Please use a keyword field instead. Alternatively, set fielddata=true on [Emotion] in order to load field data by uninverting the inverted index. Note that this can use significant memory.')"
     ]
    }
   ],
   "source": [
    "def get_sentiment_distribution(es,patient_firstname, patient_lastname):\n",
    "    query = {\n",
    "            \"size\": 10,\n",
    "            \"query\": {\n",
    "                \"bool\": {\n",
    "                    \"must\": [\n",
    "                        {\"term\": {\"patient_firstname\": patient_firstname}},\n",
    "                        {\"term\": {\"patient_lastname\": patient_lastname}}\n",
    "                    ]\n",
    "                }\n",
    "            },\n",
    "            \"aggs\": {\n",
    "                \"sentiment_distribution\": {\n",
    "                    \"terms\": {\"field\": \"Emotion\"}\n",
    "                }\n",
    "            }\n",
    "        }\n",
    "    \n",
    "\n",
    "    response = es.search(index=\"notes\", body=query)\n",
    "\n",
    "    buckets = response[\"aggregations\"][\"sentiment_distribution\"][\"buckets\"]\n",
    "\n",
    "    df = pd.DataFrame(buckets, columns=[\"key\", \"doc_count\"])\n",
    "    return df\n",
    "\n",
    "print(get_sentiment_distribution(es,'Samantha','Smith'))"
   ]
  }
 ],
 "metadata": {
  "kernelspec": {
   "display_name": "nlp-env",
   "language": "python",
   "name": "nlp-env"
  },
  "language_info": {
   "codemirror_mode": {
    "name": "ipython",
    "version": 3
   },
   "file_extension": ".py",
   "mimetype": "text/x-python",
   "name": "python",
   "nbconvert_exporter": "python",
   "pygments_lexer": "ipython3",
   "version": "3.10.6"
  },
  "orig_nbformat": 4
 },
 "nbformat": 4,
 "nbformat_minor": 2
}
