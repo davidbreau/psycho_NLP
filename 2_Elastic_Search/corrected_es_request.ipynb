{
 "cells": [
  {
   "cell_type": "code",
   "execution_count": 19,
   "metadata": {},
   "outputs": [],
   "source": [
    "from elasticsearch import Elasticsearch\n",
    "import pandas as pd\n",
    "\n",
    "es = Elasticsearch([{'host': 'localhost', 'port': 9200,'scheme': 'http'}])      # Connexion à Elasticsearch"
   ]
  },
  {
   "cell_type": "code",
   "execution_count": 20,
   "metadata": {},
   "outputs": [
    {
     "name": "stdout",
     "output_type": "stream",
     "text": [
      "No hits found\n"
     ]
    },
    {
     "name": "stderr",
     "output_type": "stream",
     "text": [
      "/var/folders/_s/5mkyygcx5flgldzp7jhrqr5w0000gn/T/ipykernel_58634/339383773.py:1: DeprecationWarning: The 'body' parameter is deprecated and will be removed in a future version. Instead use individual parameters.\n",
      "  response = es.search(\n",
      "/var/folders/_s/5mkyygcx5flgldzp7jhrqr5w0000gn/T/ipykernel_58634/339383773.py:1: ElasticsearchWarning: Elasticsearch built-in security features are not enabled. Without authentication, your cluster could be accessible to anyone. See https://www.elastic.co/guide/en/elasticsearch/reference/7.17/security-minimal-setup.html to enable security.\n",
      "  response = es.search(\n"
     ]
    }
   ],
   "source": [
    "response = es.search(\n",
    "    index=\"notes\",\n",
    "    body={\n",
    "        \"query\": {\n",
    "            \"match_all\": {}\n",
    "        }\n",
    "    }\n",
    ")\n",
    "\n",
    "hits = response[\"hits\"][\"hits\"]\n",
    "\n",
    "# Check if there are any hits\n",
    "if hits:\n",
    "    first_name = hits[0][\"_source\"][\"patient_firstname\"]  # Get the first name\n",
    "    last_name = hits[0][\"_source\"][\"patient_lastname\"]  # Get the last name\n",
    "    print(first_name, last_name)\n",
    "else:\n",
    "    print(\"No hits found\")\n"
   ]
  },
  {
   "cell_type": "markdown",
   "metadata": {},
   "source": [
    "Requêtes"
   ]
  },
  {
   "cell_type": "code",
   "execution_count": 21,
   "metadata": {},
   "outputs": [
    {
     "name": "stderr",
     "output_type": "stream",
     "text": [
      "/var/folders/_s/5mkyygcx5flgldzp7jhrqr5w0000gn/T/ipykernel_58634/272352446.py:1: ElasticsearchWarning: Elasticsearch built-in security features are not enabled. Without authentication, your cluster could be accessible to anyone. See https://www.elastic.co/guide/en/elasticsearch/reference/7.17/security-minimal-setup.html to enable security.\n",
      "  result = es.search(index=\"notes\", size=2)   #  Recupère les 2 premiers documents\n"
     ]
    }
   ],
   "source": [
    "result = es.search(index=\"notes\", size=2)   #  Recupère les 2 premiers documents\n",
    "\n",
    "for hit in result['hits']['hits']:      # Affiche les notes des résultats parcourus\n",
    "    note = hit['_source']\n",
    "    print(\"Patient Last Name:\", note['patient_lastname'])\n",
    "    print(\"Patient First Name:\", note['patient_firstname'])\n",
    "    print(\"Text:\", note['Text'])\n",
    "    print(\"Date:\", note['date'])\n",
    "    print(\"Patient Left:\", note['patient_left'])\n",
    "    print(\"Emotion:\", note['Emotion'])\n",
    "    print(\"Confidence:\", note['confidence'])\n",
    "    print(\"-------------------------\")\n"
   ]
  },
  {
   "cell_type": "markdown",
   "metadata": {},
   "source": [
    "1 - Répartition des sentiments par patient"
   ]
  },
  {
   "cell_type": "code",
   "execution_count": 22,
   "metadata": {},
   "outputs": [],
   "source": [
    "def get_emotion_distribution(patient_lastname:str, patient_firstname:str) -> pd.DataFrame:\n",
    "    \"\"\"_summary_\n",
    "    Prends le prenom et le nom d'un patient, et retourne le nombre de textes et son pourcentage pour chaque emotion\n",
    "    \"\"\"\n",
    "    query = {           #requête\n",
    "        \"size\": 0,\n",
    "        \"query\": {\n",
    "            \"bool\": {\n",
    "                \"must\": [\n",
    "                    {\"term\": {\"patient_firstname\": patient_firstname}},\n",
    "                    {\"term\": {\"patient_lastname\": patient_lastname}}\n",
    "                ]\n",
    "            }\n",
    "        },\n",
    "        \"aggs\": {\n",
    "            \"sentiment_distribution\": {\n",
    "                \"terms\": {\"field\": \"Emotion\"}\n",
    "            }\n",
    "        }\n",
    "    }\n",
    "    result = es.search(index='notes', body=query)\n",
    "    buckets = result[\"aggregations\"][\"sentiment_distribution\"][\"buckets\"]\n",
    "    df = pd.DataFrame(buckets, columns=[\"key\", \"doc_count\"])    # crée le dataframe\n",
    "    total_count = df[\"doc_count\"].sum()\n",
    "    df[\"Percent\"] = round(((df[\"doc_count\"] / total_count) * 100),2)    # Calcul des pourcentages\n",
    "    return df"
   ]
  },
  {
   "cell_type": "code",
   "execution_count": 23,
   "metadata": {},
   "outputs": [
    {
     "ename": "NameError",
     "evalue": "name 'last_name' is not defined",
     "output_type": "error",
     "traceback": [
      "\u001b[0;31m---------------------------------------------------------------------------\u001b[0m",
      "\u001b[0;31mNameError\u001b[0m                                 Traceback (most recent call last)",
      "Cell \u001b[0;32mIn[23], line 1\u001b[0m\n\u001b[0;32m----> 1\u001b[0m get_emotion_distribution(last_name, first_name)\n",
      "\u001b[0;31mNameError\u001b[0m: name 'last_name' is not defined"
     ]
    }
   ],
   "source": [
    "get_emotion_distribution(last_name, first_name)"
   ]
  },
  {
   "cell_type": "markdown",
   "metadata": {},
   "source": [
    "2 - Matrice des sentiments contradictoires"
   ]
  },
  {
   "cell_type": "code",
   "execution_count": null,
   "metadata": {},
   "outputs": [],
   "source": [
    "def emotion_count(es,emotion:str) -> int:\n",
    "    query = {\n",
    "        \"size\": 0,\n",
    "        \"query\": {\n",
    "            \"terms\": {\n",
    "                \"emotion\": [emotion]\n",
    "            }\n",
    "        }\n",
    "    }\n",
    "    response = es.search(index=\"notes\", body=query)\n",
    "    return response[\"hits\"][\"total\"][\"value\"]"
   ]
  },
  {
   "cell_type": "code",
   "execution_count": null,
   "metadata": {},
   "outputs": [],
   "source": [
    "emotion_count(es, 'love')"
   ]
  },
  {
   "cell_type": "code",
   "execution_count": null,
   "metadata": {},
   "outputs": [],
   "source": [
    "def count_matching_entries(es, emotion, text):\n",
    "    query = {\n",
    "        \"query\": {\n",
    "            \"bool\": {\n",
    "                \"must\": [\n",
    "                    {\"match\": {\"emotion\": emotion}},\n",
    "                    {\"match\": {\"Text\": text}}\n",
    "                ]\n",
    "            }\n",
    "        },\n",
    "        \"size\": 0\n",
    "    }\n",
    "\n",
    "    response = es.search(index=\"notes\", body=query)\n",
    "    count = response[\"hits\"][\"total\"][\"value\"]\n",
    "    \n",
    "    return count\n",
    "\n"
   ]
  },
  {
   "cell_type": "code",
   "execution_count": null,
   "metadata": {},
   "outputs": [],
   "source": [
    "emotions = ['happy','sadness','anger','surprise','fear','love']\n",
    "\n",
    "for e in emotions:\n",
    "    for e2 in emotions:\n",
    "        print(count_matching_entries(es, e, e2))"
   ]
  },
  {
   "cell_type": "code",
   "execution_count": null,
   "metadata": {},
   "outputs": [],
   "source": [
    "from elasticsearch import Elasticsearch\n",
    "from elasticsearch_dsl import Search, Q\n",
    "import pandas as pd\n",
    "import seaborn as sns\n",
    "import matplotlib.pyplot as plt\n",
    "\n",
    "# Connect to Elasticsearch\n",
    "es = Elasticsearch([{'host': 'localhost', 'port': 9200}]) # replace with your own host and port\n",
    "\n",
    "# 1. Requête pour obtenir la répartition des sentiments pour un patient\n",
    "def get_patient_sentiment_distribution(first_name, last_name):\n",
    "    s = Search(using=es, index=\"your_index\")         .query(\"match\", first_name=first_name)         .query(\"match\", last_name=last_name)         .aggs.bucket('sentiments', 'terms', field='sentiment')\n",
    "    response = s.execute()\n",
    "    df = pd.DataFrame(response.aggregations.sentiments.buckets)\n",
    "    df.columns = ['sentiment', 'count']\n",
    "    return df\n",
    "\n",
    "# 2. Matrice des sentiments contradictoires\n",
    "def get_sentiment_matrix():\n",
    "    sentiments = ['happy', 'sadness', 'fear', 'anger', 'surprise', 'neutral']\n",
    "    matrix = pd.DataFrame(index=sentiments, columns=sentiments)\n",
    "    for sentiment in sentiments:\n",
    "        for word in sentiments:\n",
    "            s = Search(using=es, index=\"your_index\")                 .query(\"match\", sentiment=sentiment)                 .query(\"match\", text=word)\n",
    "            response = s.execute()\n",
    "            matrix.loc[sentiment, word] = response.hits.total['value'] / response.hits.max_score\n",
    "    sns.heatmap(matrix, annot=True, cmap='YlGnBu')\n",
    "    plt.show()\n",
    "\n",
    "# 3. Rechercher le nombre de textes correspondants aux étapes du deuil\n",
    "def get_grief_stage_counts():\n",
    "    stages = ['denial', 'anger', 'bargaining', 'depression', 'acceptance']\n",
    "    counts = {}\n",
    "    for stage in stages:\n",
    "        # Full text search\n",
    "        s = Search(using=es, index=\"your_index\").query(\"match\", text=stage)\n",
    "        response = s.execute()\n",
    "        counts[stage] = {\n",
    "            'full_search': response.hits.total['value'],\n",
    "            'fuzzy_search': 0\n",
    "        }\n",
    "        # Fuzzy search\n",
    "        s = Search(using=es, index=\"your_index\").query(\"fuzzy\", text={\"value\": stage})\n",
    "        response = s.execute()\n",
    "        counts[stage]['fuzzy_search'] = response.hits.total['value']\n",
    "    return pd.DataFrame(counts)\n",
    "\n",
    "# 4. Rechercher les textes avec les conditions données\n",
    "def get_filtered_texts():\n",
    "    s = Search(using=es, index=\"your_index\")         .query(\"match_phrase\", text=\"good day\")         .filter(\"term\", in_consultation=True)         .should(\"match_phrase\", text=\"to rest\")         .exclude(\"range\", confidence={\"lt\": 0.5})\n",
    "    response = s.execute()\n",
    "    df = pd.DataFrame((hit.to_dict() for hit in response), columns=['text', 'sentiment', 'confidence'])\n",
    "    return df"
   ]
  }
 ],
 "metadata": {
  "kernelspec": {
   "display_name": "NLP",
   "language": "python",
   "name": "python3"
  },
  "language_info": {
   "codemirror_mode": {
    "name": "ipython",
    "version": 3
   },
   "file_extension": ".py",
   "mimetype": "text/x-python",
   "name": "python",
   "nbconvert_exporter": "python",
   "pygments_lexer": "ipython3",
   "version": "3.9.17"
  }
 },
 "nbformat": 4,
 "nbformat_minor": 2
}
