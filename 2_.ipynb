{
 "cells": [
  {
   "cell_type": "code",
   "execution_count": 2,
   "metadata": {},
   "outputs": [],
   "source": [
    "import nltk\n",
    "import pandas as pd\n",
    "import matplotlib.pyplot as plt\n",
    "import seaborn as sns\n",
    "from nltk.corpus import stopwords\n",
    "from nltk.probability import FreqDist\n",
    "from nltk.tokenize import word_tokenize\n",
    "from nltk.sentiment import SentimentIntensityAnalyzer"
   ]
  },
  {
   "cell_type": "code",
   "execution_count": 3,
   "metadata": {},
   "outputs": [],
   "source": [
    "df = pd.read_csv('data/Emotion_final.csv') #import du dataset"
   ]
  },
  {
   "attachments": {},
   "cell_type": "markdown",
   "metadata": {},
   "source": [
    "### Stopwords"
   ]
  },
  {
   "cell_type": "code",
   "execution_count": 10,
   "metadata": {},
   "outputs": [
    {
     "data": {
      "text/plain": [
       "'i\" \"feel\" \"and\" \"to\" \"the\" \"a\" \"of\" \"that\" \"feeling\" \"my\" \"in\" \"it\" \"like\" \"was\" \"so\" \"for\" \"im\" \"me\" \"but\" \"have\" \"is\" \"with\" \"this\" \"am\" \"not\" \"about\" \"be\" \"as\" \"on\" \"you'"
      ]
     },
     "execution_count": 10,
     "metadata": {},
     "output_type": "execute_result"
    }
   ],
   "source": [
    "from collections import Counter\n",
    "all_text = ' '.join(df.Text)\n",
    "words = all_text.split()\n",
    "word_counts = Counter(words)\n",
    "'\" \"'.join([word for word, count in word_counts.most_common(30)]) "
   ]
  },
  {
   "cell_type": "markdown",
   "metadata": {},
   "source": [
    "    ^ Liste des 30 mots les plus courants du corpus"
   ]
  },
  {
   "cell_type": "markdown",
   "metadata": {},
   "source": [
    "Gestion des stopwords"
   ]
  },
  {
   "cell_type": "code",
   "execution_count": 17,
   "metadata": {},
   "outputs": [
    {
     "name": "stderr",
     "output_type": "stream",
     "text": [
      "[nltk_data] Downloading package stopwords to\n",
      "[nltk_data]     /home/apprenant/nltk_data...\n",
      "[nltk_data]   Package stopwords is already up-to-date!\n"
     ]
    }
   ],
   "source": [
    "nltk.download('stopwords')\n",
    "stop_words = stopwords.words('english')"
   ]
  },
  {
   "cell_type": "code",
   "execution_count": 36,
   "metadata": {},
   "outputs": [],
   "source": [
    "words_by_emotion = dict()\n",
    "for emotion in df.Emotion.unique():\n",
    "    df_temp = df[df.Emotion == emotion] # Filtre le dataset sur l'emotion itérée\n",
    "    words = ' '.join(df_temp.Text).split()\n",
    "    filtered_words = [word for word in words if word.lower() not in stop_words]\n",
    "    word_counts = Counter(filtered_words)\n",
    "    words_by_emotion[emotion] = (\", \".join([word for word, count in word_counts.most_common(30)])).split(', ')"
   ]
  },
  {
   "cell_type": "code",
   "execution_count": 56,
   "metadata": {},
   "outputs": [
    {
     "name": "stdout",
     "output_type": "stream",
     "text": [
      "\u001b[94m Sadness : ['feel', 'feeling', 'like', 'im', ',', 'really', 'know', 'get', 'would', 'time', 'little', 'ive', 'still', 'even', 'want', 'life', 'one', 'people', 'think', 'bit', 'things', 'much', 'dont', 'make', 'day', 'something', 'back', 'going', 'way', 'could']\n",
      "\u001b[91m Anger : ['feel', 'feeling', 'like', 'im', ',', 'really', 'get', 'know', 'people', 'time', 'little', 'want', 'even', 'would', 'angry', 'think', 'could', 'one', 'things', 'bit', 'way', 'offended', 'dont', 'resentful', 'cold', 'still', 'something', 'irritable', 'cant', 'going']\n",
      "\u001b[95m Love : ['feel', 'feeling', 'like', 'im', 'love', 'really', 'know', 'sweet', 'loving', 'time', 'want', 'people', 'caring', 'passionate', 'one', 'sympathetic', 'life', 'liked', 'get', 'hot', 'little', 'feelings', 'tender', 'lovely', 'longing', 'loved', 'would', 'need', 'accepted', 'nostalgic']\n",
      "\u001b[90m Surprise : ['feel', 'feeling', ',', 'like', 'im', 'amazed', 'impressed', 'curious', 'overwhelmed', 'funny', 'surprised', 'weird', 'strange', 'amazing', 'really', 'little', 'shocked', 'still', 'time', 'stunned', 'dazed', 'bit', 'people', 'would', 'know', 'think', 'one', 'feels', 'much', 'could']\n",
      "\u001b[92m Fear : ['feel', 'feeling', 'im', 'like', ',', 'little', 'bit', 'know', 'really', 'anxious', 'time', 'still', 'people', 'nervous', 'one', 'get', 'want', 'would', 'strange', 'terrified', 'think', 'going', 'ive', 'afraid', 'agitated', 'scared', 'frightened', 'go', 'weird', 'things']\n",
      "\u001b[93m Happy : ['feel', 'feeling', 'like', 'im', 'really', 'time', 'know', 'get', 'make', ',', 'people', 'would', 'one', 'want', 'good', 'something', 'little', 'think', 'pretty', 'life', 'much', 'love', 'even', 'going', 'ive', 'happy', 'could', 'day', 'still', 'well']\n"
     ]
    }
   ],
   "source": [
    "print('\\033[94m Sadness :', words_by_emotion['sadness'])\n",
    "print('\\033[91m Anger :', words_by_emotion['anger'])\n",
    "print('\\033[95m Love :', words_by_emotion['love'])\n",
    "print('\\033[90m Surprise :', words_by_emotion['surprise'])\n",
    "print('\\033[92m Fear :', words_by_emotion['fear'])\n",
    "print('\\033[93m Happy :', words_by_emotion['happy'])"
   ]
  },
  {
   "cell_type": "code",
   "execution_count": null,
   "metadata": {},
   "outputs": [],
   "source": [
    "words = ['feel', 'feeling', 'like', ',' 'really', 'know', 'get' 'would' , 'time', 'little', 'ive', 'still', 'even' 'want', 'life', 'way', 'could', 'back', 'make', \n",
    "         'time','going',\n",
    "         \n",
    "         'know',\n",
    "         ]"
   ]
  }
 ],
 "metadata": {
  "kernelspec": {
   "display_name": "nlp-env",
   "language": "python",
   "name": "nlp-env"
  },
  "language_info": {
   "codemirror_mode": {
    "name": "ipython",
    "version": 3
   },
   "file_extension": ".py",
   "mimetype": "text/x-python",
   "name": "python",
   "nbconvert_exporter": "python",
   "pygments_lexer": "ipython3",
   "version": "3.10.6"
  },
  "orig_nbformat": 4
 },
 "nbformat": 4,
 "nbformat_minor": 2
}
